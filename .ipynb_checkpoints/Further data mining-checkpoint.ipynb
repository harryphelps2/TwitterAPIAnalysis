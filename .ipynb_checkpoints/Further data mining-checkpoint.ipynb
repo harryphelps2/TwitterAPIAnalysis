{
 "cells": [
  {
   "cell_type": "code",
   "execution_count": 7,
   "metadata": {},
   "outputs": [],
   "source": [
    "%matplotlib notebook\n",
    "import matplotlib.pyplot as plt\n",
    "import json\n",
    "\n",
    "TWEETS_DATA_PATH = 'tweet_mining.json'\n",
    "\n",
    "def read_json(file_path):\n",
    "    results = []\n",
    "    with open(TWEETS_DATA_PATH) as tweets_file:\n",
    "        for tweet_line in tweets_file:\n",
    "            try:\n",
    "                status = json.loads(tweet_line)\n",
    "                results.append(status)\n",
    "            except ValueError:\n",
    "                pass\n",
    "        return results"
   ]
  },
  {
   "cell_type": "code",
   "execution_count": 8,
   "metadata": {},
   "outputs": [],
   "source": [
    "import re\n",
    "\n",
    "def is_token_in_tweet_text(token, tweet_text):\n",
    "    token = token.lower()\n",
    "    tweet_text = ''.join(tweet_text).lower()\n",
    "    match = re.search(token, tweet_text)\n",
    "    if match:\n",
    "        return True\n",
    "    return False\n",
    "\n",
    "results = read_json(TWEETS_DATA_PATH)"
   ]
  },
  {
   "cell_type": "code",
   "execution_count": 11,
   "metadata": {},
   "outputs": [
    {
     "name": "stdout",
     "output_type": "stream",
     "text": [
      "14\n",
      "7\n",
      "8\n",
      "1058\n"
     ]
    }
   ],
   "source": [
    "import pandas\n",
    "\n",
    "statuses = pandas.DataFrame()\n",
    "\n",
    "statuses['text'] = [status['text'] for status in results]\n",
    "\n",
    "statuses['python'] = statuses['text'].apply(lambda status: is_token_in_tweet_text('python', status))\n",
    "statuses['javascript'] = statuses['text'].apply(lambda status: is_token_in_tweet_text('javascript', status))\n",
    "statuses['php'] = statuses['text'].apply(lambda status: is_token_in_tweet_text('php', status))\n",
    "statuses['c'] = statuses['text'].apply(lambda status: is_token_in_tweet_text('c ', status))\n",
    "\n",
    "print(statuses['python'].value_counts()[True])\n",
    "print(statuses['javascript'].value_counts()[True])\n",
    "print(statuses['php'].value_counts()[True])\n",
    "print(statuses['c'].value_counts()[True])"
   ]
  },
  {
   "cell_type": "code",
   "execution_count": null,
   "metadata": {},
   "outputs": [],
   "source": [
    "def lang_pie():\n",
    "    slices = [statuses['python'].value_counts()[True],\n",
    "                statuses['javascript'].value_counts()[True],\n",
    "                statuses['php'].value_counts()[True],\n",
    "                statuses['c'].value_counts()[True]]\n",
    "    activities = ['Python', 'javascript', 'php', 'C']\n",
    "    cols = ['c', 'm', 'r', 'b']\n",
    "    \n",
    "    plt.pie(slices, colors=cols, labels=activities,\n",
    "           startangle=90, shadow=True, explode=(0.5,0,0.5,0),\n",
    "           autopct='%1.1f%%')\n",
    "    \n",
    "    plt.title('Tweet Incidence\\nof coding languages')\n",
    "    plt.show()\n",
    "    "
   ]
  }
 ],
 "metadata": {
  "kernelspec": {
   "display_name": "Python 3",
   "language": "python",
   "name": "python3"
  },
  "language_info": {
   "codemirror_mode": {
    "name": "ipython",
    "version": 3
   },
   "file_extension": ".py",
   "mimetype": "text/x-python",
   "name": "python",
   "nbconvert_exporter": "python",
   "pygments_lexer": "ipython3",
   "version": "3.4.3"
  }
 },
 "nbformat": 4,
 "nbformat_minor": 2
}
