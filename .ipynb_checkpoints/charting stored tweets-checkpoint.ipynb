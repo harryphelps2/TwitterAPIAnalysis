{
 "cells": [
  {
   "cell_type": "code",
   "execution_count": 2,
   "metadata": {},
   "outputs": [
    {
     "name": "stdout",
     "output_type": "stream",
     "text": [
      "1111\n"
     ]
    }
   ],
   "source": [
    "%matplotlib notebook\n",
    "import matplotlib.pyplot as plt\n",
    "import json\n",
    "\n",
    "TWEETS_DATA_PATH = 'tweet_mining.json'\n",
    "\n",
    "results = []\n",
    "with open(TWEETS_DATA_PATH) as tweets_file:\n",
    "    for tweet_line in tweets_file:\n",
    "        try:\n",
    "            status = json.loads(tweet_line)\n",
    "            results.append(status)\n",
    "        except ValueError:\n",
    "            pass\n",
    "    \n",
    "print(len(results))"
   ]
  },
  {
   "cell_type": "code",
   "execution_count": 3,
   "metadata": {},
   "outputs": [
    {
     "name": "stdout",
     "output_type": "stream",
     "text": [
      "                                                text lang country\n",
      "0  https://t.co/JVoq27OHqt ㅋㅋㅋ 선 정리 안 된 건 이 섬나라 사...   ko     N/A\n",
      "1  【立教生】立教大学周辺のお得なランチ情報を掲載しております！お昼のお店選びの参考にしてくださ...   ja     N/A\n",
      "2  #黒羽快斗愛され\\n#快斗愛されおすすめ作品\\n\\nめちゃくちゃほんのりとした幸せになれる快...   ja     N/A\n",
      "3           All of them 😂😭😂😭 https://t.co/nwjzGdkUk1   en     N/A\n",
      "4                            https://t.co/piA0IQZd5N  und     N/A\n"
     ]
    }
   ],
   "source": [
    "import pandas\n",
    "\n",
    "#create a dataframe\n",
    "statuses = pandas.DataFrame()\n",
    "\n",
    "# store the text values\n",
    "statuses['text'] = [status['text'] for status in results]\n",
    "\n",
    "#store langguage values\n",
    "statuses['lang'] = [status['lang'] for status in results]\n",
    "\n",
    "statuses['country'] = [status['place']['country'] if status['place'] else \"N/A\" for status in results]\n",
    "\n",
    "print(statuses.head())\n"
   ]
  },
  {
   "cell_type": "code",
   "execution_count": 4,
   "metadata": {},
   "outputs": [
    {
     "name": "stdout",
     "output_type": "stream",
     "text": [
      "en     318\n",
      "und    281\n",
      "ja     256\n",
      "es      55\n",
      "fr      40\n",
      "Name: lang, dtype: int64\n",
      "N/A        1110\n",
      "Uruguay       1\n",
      "Name: country, dtype: int64\n"
     ]
    }
   ],
   "source": [
    "# get each tweet language and count of its apearance\n",
    "tweets_by_lang = statuses['lang'].value_counts()\n",
    "\n",
    "tweets_by_country = statuses['country'].value_counts()\n",
    "\n",
    "print(tweets_by_lang.head())\n",
    "print(tweets_by_country.head())"
   ]
  },
  {
   "cell_type": "code",
   "execution_count": null,
   "metadata": {},
   "outputs": [],
   "source": [
    "#creat drawing space\n",
    "fig = plt.figure()\n",
    "fig.sybplots_adjust(hspace=.9)\n",
    "\n",
    "#prepare to plot two charts on the same figure\n",
    "ax1 = fig.add_subplot(2,1,1)\n",
    "ax2 = fig.add_subplot(2,1,2)\n",
    "\n",
    "#style the axis\n",
    "ax1.tick_params(axis='x', labelsize=15)\n",
    "ax1.tick_params(axis='y', labelsize=10)\n",
    "ax1.set_xlabel('Tweet languages', fontsize=15)\n",
    "ax1.set_ylabel('Number of tweets', fontsize=15)\n",
    "ax1.xaxis.label.set_color('#666666')\n",
    "ax1.yaxis.label.set_color('#666666')\n",
    "ax1.tick_params(axis='x', colors='#666666')\n",
    "ax1.tick_params(axis='y', colors='#666666')\n",
    "\n",
    "# style the title\n",
    "ax1.set_title('Top 10 languages', fontsize=15, color='#666666')\n",
    "\n",
    "# Plot the top 10 tweet languages\n",
    "tweet_by_lang[:10].plot(ax=ax1, kind='bar', color='#FF7A00')\n",
    "\n",
    "# color the spines\n",
    "for spine in ax2.spines.values():\n",
    "    spine.set_edgecolor('z#666666')"
   ]
  }
 ],
 "metadata": {
  "kernelspec": {
   "display_name": "Python 3",
   "language": "python",
   "name": "python3"
  },
  "language_info": {
   "codemirror_mode": {
    "name": "ipython",
    "version": 3
   },
   "file_extension": ".py",
   "mimetype": "text/x-python",
   "name": "python",
   "nbconvert_exporter": "python",
   "pygments_lexer": "ipython3",
   "version": "3.4.3"
  }
 },
 "nbformat": 4,
 "nbformat_minor": 2
}
